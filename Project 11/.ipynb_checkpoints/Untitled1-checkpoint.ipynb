{
 "cells": [
  {
   "cell_type": "code",
   "execution_count": 1,
   "id": "f38c34c9-a6bc-4aa3-bce9-505dff89b5d9",
   "metadata": {},
   "outputs": [
    {
     "data": {
      "application/vnd.jupyter.widget-view+json": {
       "model_id": "f50d6eaf8bb44084acc4a8b4f89f3950",
       "version_major": 2,
       "version_minor": 0
      },
      "text/plain": [
       "MitoWidget(analysis_data_json='{\"analysisName\": \"UUID-bb7c391b-0484-4f37-8bef-035eeb2a1cf4\", \"code\": {\"imports…"
      ]
     },
     "metadata": {},
     "output_type": "display_data"
    }
   ],
   "source": [
    "import mitosheet\n",
    "mitosheet.sheet()"
   ]
  },
  {
   "cell_type": "code",
   "execution_count": null,
   "id": "ee15edf3-8c66-4e54-87a8-2f2b688048a5",
   "metadata": {},
   "outputs": [],
   "source": [
    "from mitosheet import *; register_analysis('UUID-bb7c391b-0484-4f37-8bef-035eeb2a1cf4')\n",
    "\n",
    "# Imported data.csv\n",
    "import pandas as pd\n",
    "data_csv = pd.read_csv(r'data.csv')\n",
    "\n",
    "# Added column new-column-jxoy to data_csv\n",
    "data_csv.insert(14, 'new-column-jxoy', 0)\n",
    "\n",
    "# Renamed new-column-jxoy to new_column in data_csv\n",
    "data_csv.rename(columns={'new-column-jxoy': 'new_column'}, inplace=True)\n",
    "\n",
    "# Set new-column-jxoy in data_csv to quantity*10\n",
    "data_csv['new_column'] = data_csv['quantity']*10\n",
    "\n",
    "# Added column new-column-r22p to data_csv\n",
    "data_csv.insert(11, 'new-column-r22p', 0)\n",
    "\n",
    "# Renamed new-column-r22p to new_sales in data_csv\n",
    "data_csv.rename(columns={'new-column-r22p': 'new_sales'}, inplace=True)\n",
    "\n",
    "# Set new-column-r22p in data_csv to sales * 100\n",
    "data_csv['new_sales'] = data_csv['sales'] * 100\n",
    "\n",
    "# Deleted column new-column-r22p from data_csv\n",
    "data_csv.drop(['new_sales'], axis=1, inplace=True)\n",
    "\n",
    "# Sorted profit in data_csv in ascending order\n",
    "data_csv = data_csv.sort_values(by='profit', ascending=True, na_position='first')\n",
    "\n",
    "# Sorted profit in data_csv in descending order\n",
    "data_csv = data_csv.sort_values(by='profit', ascending=False, na_position='last')\n",
    "\n",
    "# Pivoted data_csv into df2\n",
    "unused_columns = data_csv.columns.difference(set(['region']).union(set(['year'])).union(set({'sales'})))\n",
    "tmp_df = data_csv.drop(unused_columns, axis=1)\n",
    "pivot_table = tmp_df.pivot_table(\n",
    "    index=['region'],\n",
    "    columns=['year'],\n",
    "    values=['sales'],\n",
    "    aggfunc={'sales': ['count']}\n",
    ")\n",
    "pivot_table.columns = [flatten_column_header(col) for col in pivot_table.columns.values]\n",
    "data_csv_pivot = pivot_table.reset_index()\n",
    "\n",
    "# Pivoted data_csv into df2\n",
    "unused_columns = data_csv.columns.difference(set(['region']).union(set(['category'])).union(set({'profit'})))\n",
    "tmp_df = data_csv.drop(unused_columns, axis=1)\n",
    "pivot_table = tmp_df.pivot_table(\n",
    "    index=['region'],\n",
    "    columns=['category'],\n",
    "    values=['profit'],\n",
    "    aggfunc={'profit': ['sum']}\n",
    ")\n",
    "pivot_table.columns = [flatten_column_header(col) for col in pivot_table.columns.values]\n",
    "data_csv_pivot = pivot_table.reset_index()\n",
    "\n",
    "# Pivoted data_csv into df2\n",
    "data_csv_pivot = pd.DataFrame(data={})\n",
    "\n",
    "# Imported data.csv\n",
    "import pandas as pd\n",
    "data_csv_1 = pd.read_csv(r'data.csv')\n",
    "\n",
    "# Added column new-column-zaak to data_csv_1\n",
    "data_csv_1.insert(6, 'new-column-zaak', 0)\n",
    "\n",
    "# Set new-column-zaak in data_csv_1 to =concat(country,' ' ,region)\n",
    "data_csv_1['new-column-zaak'] = CONCAT(data_csv_1['country'],' ' ,data_csv_1['region'])\n"
   ]
  }
 ],
 "metadata": {
  "kernelspec": {
   "display_name": "Python 3 (ipykernel)",
   "language": "python",
   "name": "python3"
  },
  "language_info": {
   "codemirror_mode": {
    "name": "ipython",
    "version": 3
   },
   "file_extension": ".py",
   "mimetype": "text/x-python",
   "name": "python",
   "nbconvert_exporter": "python",
   "pygments_lexer": "ipython3",
   "version": "3.10.1"
  }
 },
 "nbformat": 4,
 "nbformat_minor": 5
}
